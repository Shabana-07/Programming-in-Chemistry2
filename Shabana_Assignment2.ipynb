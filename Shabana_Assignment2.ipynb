{
 "cells": [
  {
   "cell_type": "markdown",
   "id": "b6067aa4-90b5-4cd2-af99-146c254108e0",
   "metadata": {},
   "source": [
    "##### <i>Name:Shabana Mangal<i>\n",
    "##### <i>Instructer:Dr.Qianyi Cheng<i>\n",
    "##### <i>Date:3/2/2025<i>\n",
    "##### <i>Subject:Programming in Chemistry<i>"
   ]
  },
  {
   "cell_type": "code",
   "execution_count": 14,
   "id": "606ed098-0a2e-4e5f-a6e2-4dd4b0e2ffb5",
   "metadata": {},
   "outputs": [
    {
     "name": "stdout",
     "output_type": "stream",
     "text": [
      "Approximated Pi: 3.141584799657247\n",
      "Running Time: 0.03185391426086426 seconds\n"
     ]
    }
   ],
   "source": [
    "# Question 1:\n",
    "import time\n",
    "\n",
    "def wallis_pi(n):\n",
    "    product = 1.0\n",
    "    for i in range(1, n+1):\n",
    "        product *= (4 * i**2) / (4 * i**2 - 1)\n",
    "    return 2 * product\n",
    "\n",
    "# Set the number of iterations for better precision\n",
    "iterations = 100000\n",
    "\n",
    "# Start the timer\n",
    "start_time = time.time()\n",
    "\n",
    "# Calculate the approximation of pi\n",
    "approximated_pi = wallis_pi(iterations)\n",
    "\n",
    "# End the timer\n",
    "end_time = time.time()\n",
    "\n",
    "# Print the result and running time\n",
    "print(f\"Approximated Pi: {approximated_pi}\")\n",
    "print(f\"Running Time: {end_time - start_time} seconds\")\n"
   ]
  },
  {
   "cell_type": "code",
   "execution_count": 13,
   "id": "b9f37e6b-bc88-4992-83a1-3dc8c834a1f4",
   "metadata": {},
   "outputs": [
    {
     "name": "stdout",
     "output_type": "stream",
     "text": [
      "The first 10 terms of the Fibonacci sequence are: [0, 1, 1, 2, 3, 5, 8, 13, 21, 34]\n"
     ]
    }
   ],
   "source": [
    "# Question 2:\n",
    "def fibonacci(n):\n",
    "    # Initialize the first two terms\n",
    "    fib_sequence = [0, 1]\n",
    "    \n",
    "    # Calculate the Fibonacci terms\n",
    "    for i in range(2, n):\n",
    "        next_term = fib_sequence[i-1] + fib_sequence[i-2]\n",
    "        fib_sequence.append(next_term)\n",
    "    \n",
    "    # Return the sequence up to the nth term\n",
    "    return fib_sequence[:n]\n",
    "\n",
    "# Example: Display the first 10 terms of the Fibonacci sequence\n",
    "n = 10\n",
    "fib_terms = fibonacci(n)\n",
    "\n",
    "# Print the result\n",
    "print(f\"The first {n} terms of the Fibonacci sequence are: {fib_terms}\")\n"
   ]
  },
  {
   "cell_type": "code",
   "execution_count": 3,
   "id": "95ac376c-0c0e-49bb-90a2-d1243be00e40",
   "metadata": {},
   "outputs": [
    {
     "name": "stdout",
     "output_type": "stream",
     "text": [
      "a) Is Li greater than C? False\n",
      "b) Is Na less than or equal to C? False\n",
      "c) Is either Li or Na greater than C? True\n",
      "d) Are both C and Na greater than Li? True\n"
     ]
    }
   ],
   "source": [
    "# Question 3:\n",
    "# Atomic numbers\n",
    "Li, C, Na = 3, 6, 11\n",
    "\n",
    "# a) Is Li greater than C?\n",
    "a = Li > C\n",
    "\n",
    "# b) Is Na less than or equal to C?\n",
    "b = Na <= C\n",
    "\n",
    "# c) Is either Li or Na greater than C?\n",
    "c = Li > C or Na > C\n",
    "\n",
    "# d) Are both C and Na greater than Li?\n",
    "d = C > Li and Na > Li\n",
    "\n",
    "# Print the results\n",
    "print(f\"a) Is Li greater than C? {a}\")\n",
    "print(f\"b) Is Na less than or equal to C? {b}\")\n",
    "print(f\"c) Is either Li or Na greater than C? {c}\")\n",
    "print(f\"d) Are both C and Na greater than Li? {d}\")\n"
   ]
  },
  {
   "cell_type": "code",
   "execution_count": 24,
   "id": "2dc94ab6-76c8-4333-8664-ea55996e1d60",
   "metadata": {},
   "outputs": [
    {
     "name": "stdout",
     "output_type": "stream",
     "text": [
      "Original DNA strand:ATGGC\n",
      "Opposite DNA strand:TACCG\n"
     ]
    }
   ],
   "source": [
    "# Question 4:\n",
    "def get_opposite_dna_strand(Orignal_Strand):\n",
    "     # Create Dictionary \n",
    "    O_S={\"A\":\"T\",\"T\":\"A\",\"C\":\"G\",\"G\":\"C\"}\n",
    "     # Generate the opposite strand by replacing each base with its pair from the dictionary\n",
    "    Opposite_Strand=\"\".join(O_S[val] for val in Orignal_Strand)\n",
    "    return Opposite_Strand\n",
    "Orignal_Strand=\"ATGGC\"\n",
    "Opposite_Strand=get_opposite_dna_strand(Orignal_Strand)\n",
    "print(f\"Original DNA strand:{Orignal_Strand}\")\n",
    "print(f\"Opposite DNA strand:{Opposite_Strand}\")\n"
   ]
  },
  {
   "cell_type": "code",
   "execution_count": 25,
   "id": "d92c09ce-3be1-45fc-8a85-23e2c5e7a6e4",
   "metadata": {},
   "outputs": [
    {
     "name": "stdout",
     "output_type": "stream",
     "text": [
      "The rate of the reaction is: 1.0 M/s\n"
     ]
    }
   ],
   "source": [
    "# Question 5:\n",
    "def rate(A0, k=1.0, n=1):\n",
    "    ''' (concentration(M), k = 1.0, n = 1) → rate (M/s)\n",
    "    Takes in the concentration of A (M), the rate constant (k), \n",
    "    and the order (n) and returns the rate (M/s)\n",
    "    '''\n",
    "    # Apply the differential rate law: Rate = k * [A]^n\n",
    "    rate_of_reaction = k * (A0 ** n)\n",
    "    \n",
    "    return rate_of_reaction\n",
    "\n",
    "\n",
    "A0 = 0.5 \n",
    "k = 2.0   \n",
    "n = 1     \n",
    "\n",
    "reaction_rate = rate(A0, k, n)\n",
    "print(f\"The rate of the reaction is: {reaction_rate} M/s\")\n"
   ]
  },
  {
   "cell_type": "code",
   "execution_count": 21,
   "id": "7ed0a5a3-dd31-4c88-9026-f2cfbb4bfaa8",
   "metadata": {},
   "outputs": [
    {
     "name": "stdout",
     "output_type": "stream",
     "text": [
      "Distance between O and H1: 0.9690005374652793 Å\n",
      "Distance between O and H2: 0.9690003348647513 Å\n",
      "Distance between H1 and H2: 1.52693633514957 Å\n"
     ]
    }
   ],
   "source": [
    "# Question 6:\n",
    "import numpy as np\n",
    "# Step 1: Use np.genfromtxt() to read the atom xyz coordinates\n",
    "W=np.genfromtxt(\"/home/Shabana/6780/Files/OtherFiles/Water_Molecule.txt\",skip_header=2,usecols=(1,2,3))\n",
    "W\n",
    "# Step 2: Define the function to calculate the atom-atom distance\n",
    "def cal_dis(atom1,atom2):\n",
    "    return np.sqrt(np.sum((atom1 - atom2) ** 2))\n",
    "# Step 3: Calculate the atom-atom distances and display the results\n",
    "O_H1=cal_dis(W[0],W[1])\n",
    "O_H2=cal_dis(W[0],W[2])    \n",
    "H1_H2=cal_dis(W[1],W[2])  \n",
    "O_H1=f\"Distance between O and H1: {O_H1} Å\"\n",
    "O_H2=f\"Distance between O and H2: {O_H2} Å\"\n",
    "H1_H2=f\"Distance between H1 and H2: {H1_H2} Å\"\n",
    "print(O_H1)\n",
    "print(O_H2)\n",
    "print(H1_H2)\n"
   ]
  },
  {
   "cell_type": "code",
   "execution_count": 26,
   "id": "1aff5438-1e4d-4ecc-a0da-a1aab9694b09",
   "metadata": {},
   "outputs": [
    {
     "name": "stdout",
     "output_type": "stream",
     "text": [
      "Reshaped array (3x5):\n",
      "\n",
      "[[ 0  1  2  3  4]\n",
      " [ 5  6  7  8  9]\n",
      " [10 11 12 13 14]]\n",
      "\n",
      "Transposed array (5x3):\n",
      "\n",
      "[[ 0  5 10]\n",
      " [ 1  6 11]\n",
      " [ 2  7 12]\n",
      " [ 3  8 13]\n",
      " [ 4  9 14]]\n",
      "\n",
      "Reshape array to ID through Ravel:\n",
      "\n",
      "[ 0  1  2  3  4  5  6  7  8  9 10 11 12 13 14]\n",
      "\n",
      "Reshape array to ID through Flatten:\n",
      "\n",
      "[ 0  5 10  1  6 11  2  7 12  3  8 13  4  9 14]\n"
     ]
    }
   ],
   "source": [
    "# Question 7:\n",
    "import numpy as np\n",
    "\n",
    "# Step 1: Generate an array containing integers from 0 to 14 (inclusive)\n",
    "arr = np.arange(15)\n",
    "\n",
    "# a) Reshape the array to be a 3x5 array\n",
    "reshaped_arr = arr.reshape(3, 5)\n",
    "print(\"Reshaped array (3x5):\")\n",
    "print(f\"\\n{reshaped_arr}\")\n",
    "\n",
    "# b) Transpose the array, so now it should be a 5x3 array\n",
    "transposed_arr = reshaped_arr.T\n",
    "print(\"\\nTransposed array (5x3):\")\n",
    "print(f\"\\n{transposed_arr}\")\n",
    "\n",
    "# c) Make the array one-dimensional again without using the reshape() method \n",
    "\n",
    "OD_arr=arr.ravel()# returns a view of the original array (if possible) and is memory-efficient.\n",
    "print(\"\\nReshape array to ID through Ravel:\")\n",
    "print(f\"\\n{OD_arr}\")\n",
    "\n",
    "# Another Method\n",
    "# and creates a new 1D array, independent of the original array\n",
    "flattened_arr = transposed_arr.flatten()\n",
    "print(\"\\nReshape array to ID through Flatten:\")\n",
    "print(f\"\\n{flattened_arr}\")\n"
   ]
  },
  {
   "cell_type": "code",
   "execution_count": 27,
   "id": "8cd348b4-bb80-4d4d-9cd8-70ee24254ded",
   "metadata": {},
   "outputs": [
    {
     "name": "stdout",
     "output_type": "stream",
     "text": [
      "Generated Array:\n",
      "[[2 6 7]\n",
      " [5 7 4]\n",
      " [1 7 7]\n",
      " [6 2 3]\n",
      " [6 1 4]]\n",
      "\n",
      "a) Second element of the third column: 4\n",
      "\n",
      "b) Entire third row: [1 7 7]\n",
      "\n",
      "c) Entire first column: [2 5 1 6 6]\n",
      "\n",
      "d) Last two elements of the first row: [6 7]\n"
     ]
    }
   ],
   "source": [
    "# Question 8:\n",
    "import numpy as np\n",
    "\n",
    "# Generate a 5x3 array with random integers from 0 to 9\n",
    "arr2 = np.random.randint(0, high=10, size=15).reshape(5, 3)\n",
    "\n",
    "# Print the array to visualize it\n",
    "print(\"Generated Array:\")\n",
    "print(arr2)\n",
    "\n",
    "# a) Index the second element of the third column (index 1 in column 2)\n",
    "second_element_third_column = arr2[1, 2]\n",
    "print(f\"\\na) Second element of the third column: {second_element_third_column}\")\n",
    "\n",
    "# b) Slice the array to get the entire third row (index 2)\n",
    "third_row = arr2[2, :]\n",
    "print(f\"\\nb) Entire third row: {third_row}\")\n",
    "\n",
    "# c) Slice the array to access the entire first column (index 0)\n",
    "first_column = arr2[:, 0]\n",
    "print(f\"\\nc) Entire first column: {first_column}\")\n",
    "\n",
    "# d) Slice the array to get the last two elements of the first row\n",
    "last_two_elements_first_row = arr2[0, -2:]\n",
    "print(f\"\\nd) Last two elements of the first row: {last_two_elements_first_row}\")\n"
   ]
  },
  {
   "cell_type": "code",
   "execution_count": null,
   "id": "52bd2ed2-2e63-48a0-aeb2-d70e2bc404f4",
   "metadata": {},
   "outputs": [],
   "source": []
  }
 ],
 "metadata": {
  "kernelspec": {
   "display_name": "Python 3 (ipykernel)",
   "language": "python",
   "name": "python3"
  },
  "language_info": {
   "codemirror_mode": {
    "name": "ipython",
    "version": 3
   },
   "file_extension": ".py",
   "mimetype": "text/x-python",
   "name": "python",
   "nbconvert_exporter": "python",
   "pygments_lexer": "ipython3",
   "version": "3.12.7"
  }
 },
 "nbformat": 4,
 "nbformat_minor": 5
}
